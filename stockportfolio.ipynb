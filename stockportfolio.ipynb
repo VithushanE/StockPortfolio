{
 "cells": [
  {
   "cell_type": "code",
   "execution_count": 1,
   "id": "d610576a-5283-4d15-a664-035c466c52fa",
   "metadata": {},
   "outputs": [],
   "source": [
    "import pandas as pd \n",
    "import numpy as np \n",
    "import matplotlib.pyplot as plt \n",
    "import seaborn as sns\n",
    "import yfinance as yf\n",
    "from sklearn.model_selection import train_test_split, GridSearchCV\n",
    "from sklearn.preprocessing import StandardScaler"
   ]
  },
  {
   "cell_type": "markdown",
   "id": "4c67a955-905e-45b0-8989-752d2f0e7343",
   "metadata": {},
   "source": [
    "# Goal: Create a stock portfolio and track historical value at risk "
   ]
  },
  {
   "cell_type": "markdown",
   "id": "67201464-2e6e-4f44-af4f-59b2bb8810a8",
   "metadata": {},
   "source": [
    "## Part 1: Descriptive Statistics\n"
   ]
  },
  {
   "cell_type": "markdown",
   "id": "033f6707-0ae3-48ca-9031-86357d7bebfc",
   "metadata": {},
   "source": [
    "To start, we will see how a sample portfolio of stocks performed over the past 2 years."
   ]
  },
  {
   "cell_type": "code",
   "execution_count": 14,
   "id": "207f8605-743d-4daa-806b-fc59aa200eaa",
   "metadata": {},
   "outputs": [
    {
     "name": "stderr",
     "output_type": "stream",
     "text": [
      "/var/folders/t4/plfsv80s1_32zcrl30pvj2kh0000gn/T/ipykernel_37941/2553988964.py:5: FutureWarning: YF.download() has changed argument auto_adjust default to True\n",
      "  data = yf.download(ticker, start = \"2023-01-01\", end = \"2025-07-01\")\n",
      "[*********************100%***********************]  4 of 4 completed\n"
     ]
    },
    {
     "data": {
      "text/html": [
       "<div>\n",
       "<style scoped>\n",
       "    .dataframe tbody tr th:only-of-type {\n",
       "        vertical-align: middle;\n",
       "    }\n",
       "\n",
       "    .dataframe tbody tr th {\n",
       "        vertical-align: top;\n",
       "    }\n",
       "\n",
       "    .dataframe thead th {\n",
       "        text-align: right;\n",
       "    }\n",
       "</style>\n",
       "<table border=\"1\" class=\"dataframe\">\n",
       "  <thead>\n",
       "    <tr style=\"text-align: right;\">\n",
       "      <th>Ticker</th>\n",
       "      <th>HIVE.V</th>\n",
       "      <th>PLTR</th>\n",
       "      <th>VFV.TO</th>\n",
       "      <th>XIU.TO</th>\n",
       "    </tr>\n",
       "    <tr>\n",
       "      <th>Date</th>\n",
       "      <th></th>\n",
       "      <th></th>\n",
       "      <th></th>\n",
       "      <th></th>\n",
       "    </tr>\n",
       "  </thead>\n",
       "  <tbody>\n",
       "    <tr>\n",
       "      <th>2023-01-03</th>\n",
       "      <td>2.09</td>\n",
       "      <td>6.39</td>\n",
       "      <td>90.108765</td>\n",
       "      <td>27.486258</td>\n",
       "    </tr>\n",
       "    <tr>\n",
       "      <th>2023-01-04</th>\n",
       "      <td>2.45</td>\n",
       "      <td>6.58</td>\n",
       "      <td>89.564766</td>\n",
       "      <td>27.671162</td>\n",
       "    </tr>\n",
       "    <tr>\n",
       "      <th>2023-01-05</th>\n",
       "      <td>2.41</td>\n",
       "      <td>6.32</td>\n",
       "      <td>89.040215</td>\n",
       "      <td>27.578707</td>\n",
       "    </tr>\n",
       "    <tr>\n",
       "      <th>2023-01-06</th>\n",
       "      <td>2.44</td>\n",
       "      <td>6.40</td>\n",
       "      <td>90.157341</td>\n",
       "      <td>28.022484</td>\n",
       "    </tr>\n",
       "    <tr>\n",
       "      <th>2023-01-09</th>\n",
       "      <td>2.82</td>\n",
       "      <td>6.50</td>\n",
       "      <td>89.768768</td>\n",
       "      <td>28.068714</td>\n",
       "    </tr>\n",
       "  </tbody>\n",
       "</table>\n",
       "</div>"
      ],
      "text/plain": [
       "Ticker      HIVE.V  PLTR     VFV.TO     XIU.TO\n",
       "Date                                          \n",
       "2023-01-03    2.09  6.39  90.108765  27.486258\n",
       "2023-01-04    2.45  6.58  89.564766  27.671162\n",
       "2023-01-05    2.41  6.32  89.040215  27.578707\n",
       "2023-01-06    2.44  6.40  90.157341  28.022484\n",
       "2023-01-09    2.82  6.50  89.768768  28.068714"
      ]
     },
     "execution_count": 14,
     "metadata": {},
     "output_type": "execute_result"
    }
   ],
   "source": [
    "# Step 1: Pick stocks \n",
    "\n",
    "# Download data\n",
    "ticker = [\"HIVE.V\", \"PLTR\", \"XIU.TO\", 'VFV.TO']\n",
    "data = yf.download(ticker, start = \"2023-01-01\", end = \"2025-07-01\")\n",
    "\n",
    "data['Close'].head()\n"
   ]
  },
  {
   "cell_type": "code",
   "execution_count": 16,
   "id": "4ca963ae-1ff7-484c-9297-e7b4fcc2f163",
   "metadata": {},
   "outputs": [],
   "source": [
    "data2 = data.copy()"
   ]
  },
  {
   "cell_type": "code",
   "execution_count": null,
   "id": "57830054-b79a-470d-8a8b-f3a62c9fc3f7",
   "metadata": {},
   "outputs": [],
   "source": [
    "# Assigning weights to each security in the portfolio\n",
    "# weights = {\n",
    "#     'CGL.TO' : 0.25, \n",
    "#     'VFV.TO' : 0.25,\n",
    "#     'XIU.TO' : 0.25, \n",
    "#     'ZST.TO' : 0.25 \n",
    "# }\n",
    "\n",
    "weights = {\n",
    "    'HIVE.V' : 0.25, \n",
    "    'TD.TO' : 0.25,\n",
    "    'XIU.TO' : 0.25, \n",
    "    'VFV.TO' : 0.25 \n",
    "}\n",
    "\n",
    "closing_prices = data2['Close'][list(weights.keys())]\n",
    "\n",
    "\n",
    "# Calculating Daily return (pct change calculates % changes from previous day)\n",
    "daily_returns = closing_prices.pct_change()\n",
    "\n",
    "# portfolio daily return (weighted sum), dot does matrix muliplication for each day, mulitplies each return by its weight and sums it\n",
    "portfolio_returns = daily_returns.dot(list(weights.values()))\n",
    "\n",
    "portfolio_returns.name = 'Portfolio Daily return'\n"
   ]
  },
  {
   "cell_type": "code",
   "execution_count": null,
   "id": "47c8b5d5-bdf5-4548-a826-206bc093eb46",
   "metadata": {},
   "outputs": [],
   "source": [
    "# converting to dataframe\n",
    "\n",
    "portfolio_returns_df = portfolio_returns.to_frame(name='Daily Return')\n",
    "portfolio_returns_df.head()"
   ]
  },
  {
   "cell_type": "code",
   "execution_count": null,
   "id": "316df195-c764-4d9e-8b81-eb302d7fb738",
   "metadata": {},
   "outputs": [],
   "source": [
    "# First, create a cumulative return series \n",
    "\n",
    "portfolio_returns_df['Cumulative Return'] = (1 + portfolio_returns_df['Daily Return']).cumprod()\n",
    "\n",
    "# Secondly, apply initital investment to see how portfolio grows over time \n",
    "initial_investment = 10000\n",
    "\n",
    "portfolio_returns_df['Portfolio Value'] = portfolio_returns_df['Cumulative Return']*initial_investment"
   ]
  },
  {
   "cell_type": "code",
   "execution_count": null,
   "id": "9933cd5a-00fa-4a29-a6d6-fd3f52ad6a60",
   "metadata": {},
   "outputs": [],
   "source": [
    "portfolio_returns_df = portfolio_returns_df.reset_index()\n",
    "portfolio_returns_df"
   ]
  },
  {
   "cell_type": "code",
   "execution_count": null,
   "id": "0b7a63b7-fb39-42fe-a94e-f385768800f9",
   "metadata": {},
   "outputs": [],
   "source": [
    "plt.scatter(portfolio_returns_df[\"Date\"], portfolio_returns_df['Portfolio Value'])\n",
    "plt.xlabel('Portfolio returns Over time')\n",
    "plt.xticks(rotation=90)\n",
    "plt.ylabel('Returns')\n",
    "plt.show()\n"
   ]
  },
  {
   "cell_type": "markdown",
   "id": "ea739ba9-6816-4b24-839d-52ec1e517628",
   "metadata": {},
   "source": [
    "# Now that I've seen how the stock portfolio has performed in the past, now I want to use predictive modelling to see how the portfolio may do in the future"
   ]
  },
  {
   "cell_type": "code",
   "execution_count": null,
   "id": "86bee6b8-73fa-42a5-b990-c9de471f6298",
   "metadata": {},
   "outputs": [],
   "source": [
    "data2.head()"
   ]
  },
  {
   "cell_type": "code",
   "execution_count": null,
   "id": "2b3e6c8a-3b6d-4765-baa7-5ebd0d0214a5",
   "metadata": {},
   "outputs": [],
   "source": [
    "portfolio_returns_df['Stock Volume'] = data2[['Close']]"
   ]
  },
  {
   "cell_type": "code",
   "execution_count": null,
   "id": "2d3312c8-647c-49fe-b057-dc3cb7209b2a",
   "metadata": {},
   "outputs": [],
   "source": [
    "data2[[\"Close\"]]"
   ]
  },
  {
   "cell_type": "code",
   "execution_count": null,
   "id": "199ac562-293b-4187-adbf-3bb22529bcee",
   "metadata": {},
   "outputs": [],
   "source": [
    "data2[['Close','Volume']]"
   ]
  },
  {
   "cell_type": "code",
   "execution_count": null,
   "id": "1e3655e3-f5e5-496f-86b0-5311f453e30c",
   "metadata": {},
   "outputs": [],
   "source": []
  }
 ],
 "metadata": {
  "kernelspec": {
   "display_name": "Python [conda env:base] *",
   "language": "python",
   "name": "conda-base-py"
  },
  "language_info": {
   "codemirror_mode": {
    "name": "ipython",
    "version": 3
   },
   "file_extension": ".py",
   "mimetype": "text/x-python",
   "name": "python",
   "nbconvert_exporter": "python",
   "pygments_lexer": "ipython3",
   "version": "3.12.7"
  }
 },
 "nbformat": 4,
 "nbformat_minor": 5
}

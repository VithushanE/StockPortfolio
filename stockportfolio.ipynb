{
 "cells": [
  {
   "cell_type": "code",
   "execution_count": 9,
   "id": "7fb0b868-c51a-44d5-b408-846f61e7d0dd",
   "metadata": {},
   "outputs": [
    {
     "name": "stdout",
     "output_type": "stream",
     "text": [
      "Collecting yfinance\n",
      "  Downloading yfinance-0.2.64-py2.py3-none-any.whl.metadata (5.8 kB)\n",
      "Requirement already satisfied: pandas>=1.3.0 in /opt/anaconda3/lib/python3.12/site-packages (from yfinance) (2.2.2)\n",
      "Requirement already satisfied: numpy>=1.16.5 in /opt/anaconda3/lib/python3.12/site-packages (from yfinance) (1.26.4)\n",
      "Requirement already satisfied: requests>=2.31 in /opt/anaconda3/lib/python3.12/site-packages (from yfinance) (2.32.3)\n",
      "Collecting multitasking>=0.0.7 (from yfinance)\n",
      "  Downloading multitasking-0.0.11-py3-none-any.whl.metadata (5.5 kB)\n",
      "Requirement already satisfied: platformdirs>=2.0.0 in /opt/anaconda3/lib/python3.12/site-packages (from yfinance) (3.10.0)\n",
      "Requirement already satisfied: pytz>=2022.5 in /opt/anaconda3/lib/python3.12/site-packages (from yfinance) (2024.1)\n",
      "Requirement already satisfied: frozendict>=2.3.4 in /opt/anaconda3/lib/python3.12/site-packages (from yfinance) (2.4.2)\n",
      "Collecting peewee>=3.16.2 (from yfinance)\n",
      "  Downloading peewee-3.18.1.tar.gz (3.0 MB)\n",
      "\u001b[2K     \u001b[90m━━━━━━━━━━━━━━━━━━━━━━━━━━━━━━━━━━━━━━━━\u001b[0m \u001b[32m3.0/3.0 MB\u001b[0m \u001b[31m14.2 MB/s\u001b[0m eta \u001b[36m0:00:00\u001b[0ma \u001b[36m0:00:01\u001b[0m\n",
      "\u001b[?25h  Installing build dependencies ... \u001b[?25ldone\n",
      "\u001b[?25h  Getting requirements to build wheel ... \u001b[?25ldone\n",
      "\u001b[?25h  Preparing metadata (pyproject.toml) ... \u001b[?25ldone\n",
      "\u001b[?25hRequirement already satisfied: beautifulsoup4>=4.11.1 in /opt/anaconda3/lib/python3.12/site-packages (from yfinance) (4.12.3)\n",
      "Collecting curl_cffi>=0.7 (from yfinance)\n",
      "  Downloading curl_cffi-0.11.4-cp39-abi3-macosx_11_0_arm64.whl.metadata (14 kB)\n",
      "Requirement already satisfied: protobuf>=3.19.0 in /opt/anaconda3/lib/python3.12/site-packages (from yfinance) (4.25.3)\n",
      "Collecting websockets>=13.0 (from yfinance)\n",
      "  Downloading websockets-15.0.1-cp312-cp312-macosx_11_0_arm64.whl.metadata (6.8 kB)\n",
      "Requirement already satisfied: soupsieve>1.2 in /opt/anaconda3/lib/python3.12/site-packages (from beautifulsoup4>=4.11.1->yfinance) (2.5)\n",
      "Requirement already satisfied: cffi>=1.12.0 in /opt/anaconda3/lib/python3.12/site-packages (from curl_cffi>=0.7->yfinance) (1.17.1)\n",
      "Requirement already satisfied: certifi>=2024.2.2 in /opt/anaconda3/lib/python3.12/site-packages (from curl_cffi>=0.7->yfinance) (2025.1.31)\n",
      "Requirement already satisfied: python-dateutil>=2.8.2 in /opt/anaconda3/lib/python3.12/site-packages (from pandas>=1.3.0->yfinance) (2.9.0.post0)\n",
      "Requirement already satisfied: tzdata>=2022.7 in /opt/anaconda3/lib/python3.12/site-packages (from pandas>=1.3.0->yfinance) (2023.3)\n",
      "Requirement already satisfied: charset-normalizer<4,>=2 in /opt/anaconda3/lib/python3.12/site-packages (from requests>=2.31->yfinance) (3.3.2)\n",
      "Requirement already satisfied: idna<4,>=2.5 in /opt/anaconda3/lib/python3.12/site-packages (from requests>=2.31->yfinance) (3.7)\n",
      "Requirement already satisfied: urllib3<3,>=1.21.1 in /opt/anaconda3/lib/python3.12/site-packages (from requests>=2.31->yfinance) (2.2.3)\n",
      "Requirement already satisfied: pycparser in /opt/anaconda3/lib/python3.12/site-packages (from cffi>=1.12.0->curl_cffi>=0.7->yfinance) (2.21)\n",
      "Requirement already satisfied: six>=1.5 in /opt/anaconda3/lib/python3.12/site-packages (from python-dateutil>=2.8.2->pandas>=1.3.0->yfinance) (1.16.0)\n",
      "Downloading yfinance-0.2.64-py2.py3-none-any.whl (119 kB)\n",
      "Downloading curl_cffi-0.11.4-cp39-abi3-macosx_11_0_arm64.whl (3.0 MB)\n",
      "\u001b[2K   \u001b[90m━━━━━━━━━━━━━━━━━━━━━━━━━━━━━━━━━━━━━━━━\u001b[0m \u001b[32m3.0/3.0 MB\u001b[0m \u001b[31m9.5 MB/s\u001b[0m eta \u001b[36m0:00:00\u001b[0ma \u001b[36m0:00:01\u001b[0m\n",
      "\u001b[?25hDownloading multitasking-0.0.11-py3-none-any.whl (8.5 kB)\n",
      "Downloading websockets-15.0.1-cp312-cp312-macosx_11_0_arm64.whl (173 kB)\n",
      "Building wheels for collected packages: peewee\n",
      "  Building wheel for peewee (pyproject.toml) ... \u001b[?25ldone\n",
      "\u001b[?25h  Created wheel for peewee: filename=peewee-3.18.1-cp312-cp312-macosx_11_0_arm64.whl size=264309 sha256=2d7abad1c970b247ca8a37627e66ad95f120f10f78f0d10c600de66331135581\n",
      "  Stored in directory: /Users/vithushanesan/Library/Caches/pip/wheels/1a/57/6a/bb71346381d0d911cd4ce3026f1fa720da76707e4f01cf27dd\n",
      "Successfully built peewee\n",
      "Installing collected packages: peewee, multitasking, websockets, curl_cffi, yfinance\n",
      "Successfully installed curl_cffi-0.11.4 multitasking-0.0.11 peewee-3.18.1 websockets-15.0.1 yfinance-0.2.64\n"
     ]
    }
   ],
   "source": [
    "!pip install yfinance"
   ]
  },
  {
   "cell_type": "code",
   "execution_count": 13,
   "id": "d610576a-5283-4d15-a664-035c466c52fa",
   "metadata": {},
   "outputs": [],
   "source": [
    "import pandas as pd \n",
    "import numpy as np \n",
    "import matplotlib.pyplot as plt \n",
    "import seaborn as sns\n",
    "import yfinance as yf\n",
    "from sklearn.model_selection import train_test_split, GridSearchCV\n",
    "from sklearn.preprocessing import StandardScaler"
   ]
  },
  {
   "cell_type": "code",
   "execution_count": null,
   "id": "56b510de-37fc-4d97-be67-4e59017a5523",
   "metadata": {},
   "outputs": [],
   "source": [
    "Goal: Create a stock portfolio and track historical value at risk "
   ]
  },
  {
   "cell_type": "code",
   "execution_count": 16,
   "id": "3712653c-28df-48b6-8e00-b7b8f1f793ef",
   "metadata": {},
   "outputs": [],
   "source": [
    "# Step 1: Pick stocks \n",
    "# Step 2: Get daily returns (closing prices)\n",
    "# Step 3: Create stock portfolio by assigning weights\n",
    "# Step 4: Create daily return of portfolio \n",
    "# Step 5: Sort the return values, and fine VaR at 95% (also 5th percentile of worst returns) "
   ]
  },
  {
   "cell_type": "code",
   "execution_count": 220,
   "id": "207f8605-743d-4daa-806b-fc59aa200eaa",
   "metadata": {},
   "outputs": [
    {
     "name": "stderr",
     "output_type": "stream",
     "text": [
      "/var/folders/t4/plfsv80s1_32zcrl30pvj2kh0000gn/T/ipykernel_16775/4000479300.py:8: FutureWarning: YF.download() has changed argument auto_adjust default to True\n",
      "  data = yf.download(ticker, start = \"2023-01-01\", end = \"2025-07-01\")\n",
      "[*********************100%***********************]  4 of 4 completed\n"
     ]
    },
    {
     "data": {
      "text/html": [
       "<div>\n",
       "<style scoped>\n",
       "    .dataframe tbody tr th:only-of-type {\n",
       "        vertical-align: middle;\n",
       "    }\n",
       "\n",
       "    .dataframe tbody tr th {\n",
       "        vertical-align: top;\n",
       "    }\n",
       "\n",
       "    .dataframe thead th {\n",
       "        text-align: right;\n",
       "    }\n",
       "</style>\n",
       "<table border=\"1\" class=\"dataframe\">\n",
       "  <thead>\n",
       "    <tr style=\"text-align: right;\">\n",
       "      <th>Ticker</th>\n",
       "      <th>PLTR</th>\n",
       "      <th>TD.TO</th>\n",
       "      <th>VFV.TO</th>\n",
       "      <th>XIU.TO</th>\n",
       "    </tr>\n",
       "    <tr>\n",
       "      <th>Date</th>\n",
       "      <th></th>\n",
       "      <th></th>\n",
       "      <th></th>\n",
       "      <th></th>\n",
       "    </tr>\n",
       "  </thead>\n",
       "  <tbody>\n",
       "    <tr>\n",
       "      <th>2023-01-03</th>\n",
       "      <td>6.39</td>\n",
       "      <td>77.514030</td>\n",
       "      <td>90.108757</td>\n",
       "      <td>27.486254</td>\n",
       "    </tr>\n",
       "    <tr>\n",
       "      <th>2023-01-04</th>\n",
       "      <td>6.58</td>\n",
       "      <td>78.521965</td>\n",
       "      <td>89.564774</td>\n",
       "      <td>27.671164</td>\n",
       "    </tr>\n",
       "    <tr>\n",
       "      <th>2023-01-05</th>\n",
       "      <td>6.32</td>\n",
       "      <td>77.234879</td>\n",
       "      <td>89.040207</td>\n",
       "      <td>27.578711</td>\n",
       "    </tr>\n",
       "    <tr>\n",
       "      <th>2023-01-06</th>\n",
       "      <td>6.40</td>\n",
       "      <td>77.199120</td>\n",
       "      <td>90.157341</td>\n",
       "      <td>28.022484</td>\n",
       "    </tr>\n",
       "    <tr>\n",
       "      <th>2023-01-09</th>\n",
       "      <td>6.50</td>\n",
       "      <td>76.957787</td>\n",
       "      <td>89.768784</td>\n",
       "      <td>28.068712</td>\n",
       "    </tr>\n",
       "  </tbody>\n",
       "</table>\n",
       "</div>"
      ],
      "text/plain": [
       "Ticker      PLTR      TD.TO     VFV.TO     XIU.TO\n",
       "Date                                             \n",
       "2023-01-03  6.39  77.514030  90.108757  27.486254\n",
       "2023-01-04  6.58  78.521965  89.564774  27.671164\n",
       "2023-01-05  6.32  77.234879  89.040207  27.578711\n",
       "2023-01-06  6.40  77.199120  90.157341  28.022484\n",
       "2023-01-09  6.50  76.957787  89.768784  28.068712"
      ]
     },
     "execution_count": 220,
     "metadata": {},
     "output_type": "execute_result"
    }
   ],
   "source": [
    "# Step 1: Pick stocks \n",
    "\n",
    "# Ultra short etf, Gold Buillion etf, TSX etf and s&p 500 etfs\n",
    "\n",
    "# Download data\n",
    "# ticker = ['ZST.TO','CGL.TO','XIU.TO','VFV.TO']\n",
    "ticker = [\"TD.TO\", \"PLTR\", \"XIU.TO\", 'VFV.TO']\n",
    "data = yf.download(ticker, start = \"2023-01-01\", end = \"2025-07-01\")\n",
    "\n",
    "data['Close'].head()\n"
   ]
  },
  {
   "cell_type": "code",
   "execution_count": 204,
   "id": "4ca963ae-1ff7-484c-9297-e7b4fcc2f163",
   "metadata": {},
   "outputs": [],
   "source": [
    "data2 = data.copy()"
   ]
  },
  {
   "cell_type": "code",
   "execution_count": 222,
   "id": "57830054-b79a-470d-8a8b-f3a62c9fc3f7",
   "metadata": {},
   "outputs": [
    {
     "name": "stderr",
     "output_type": "stream",
     "text": [
      "/var/folders/t4/plfsv80s1_32zcrl30pvj2kh0000gn/T/ipykernel_16775/1164288229.py:20: FutureWarning: The default fill_method='pad' in DataFrame.pct_change is deprecated and will be removed in a future version. Either fill in any non-leading NA values prior to calling pct_change or specify 'fill_method=None' to not fill NA values.\n",
      "  daily_returns = closing_prices.pct_change()\n"
     ]
    }
   ],
   "source": [
    "# Assigning weights to each security in the portfolio\n",
    "# weights = {\n",
    "#     'CGL.TO' : 0.25, \n",
    "#     'VFV.TO' : 0.25,\n",
    "#     'XIU.TO' : 0.25, \n",
    "#     'ZST.TO' : 0.25 \n",
    "# }\n",
    "\n",
    "weights = {\n",
    "    'PLTR' : 0.25, \n",
    "    'TD.TO' : 0.25,\n",
    "    'XIU.TO' : 0.25, \n",
    "    'VFV.TO' : 0.25 \n",
    "}\n",
    "\n",
    "closing_prices = data2['Close'][list(weights.keys())]\n",
    "\n",
    "\n",
    "# Calculating Daily return (pct change calculates % changes from previous day)\n",
    "daily_returns = closing_prices.pct_change()\n",
    "\n",
    "# portfolio daily return (weighted sum), dot does matrix muliplication for each day, mulitplies each return by its weight and sums it\n",
    "portfolio_returns = daily_returns.dot(list(weights.values()))\n",
    "\n",
    "portfolio_returns.name = 'Portfolio Daily return'\n"
   ]
  },
  {
   "cell_type": "code",
   "execution_count": 189,
   "id": "47c8b5d5-bdf5-4548-a826-206bc093eb46",
   "metadata": {},
   "outputs": [
    {
     "data": {
      "text/html": [
       "<div>\n",
       "<style scoped>\n",
       "    .dataframe tbody tr th:only-of-type {\n",
       "        vertical-align: middle;\n",
       "    }\n",
       "\n",
       "    .dataframe tbody tr th {\n",
       "        vertical-align: top;\n",
       "    }\n",
       "\n",
       "    .dataframe thead th {\n",
       "        text-align: right;\n",
       "    }\n",
       "</style>\n",
       "<table border=\"1\" class=\"dataframe\">\n",
       "  <thead>\n",
       "    <tr style=\"text-align: right;\">\n",
       "      <th></th>\n",
       "      <th>Daily Return</th>\n",
       "    </tr>\n",
       "    <tr>\n",
       "      <th>Date</th>\n",
       "      <th></th>\n",
       "    </tr>\n",
       "  </thead>\n",
       "  <tbody>\n",
       "    <tr>\n",
       "      <th>2023-01-03</th>\n",
       "      <td>NaN</td>\n",
       "    </tr>\n",
       "    <tr>\n",
       "      <th>2023-01-04</th>\n",
       "      <td>0.001782</td>\n",
       "    </tr>\n",
       "    <tr>\n",
       "      <th>2023-01-05</th>\n",
       "      <td>-0.004794</td>\n",
       "    </tr>\n",
       "    <tr>\n",
       "      <th>2023-01-06</th>\n",
       "      <td>0.011178</td>\n",
       "    </tr>\n",
       "    <tr>\n",
       "      <th>2023-01-09</th>\n",
       "      <td>0.000442</td>\n",
       "    </tr>\n",
       "  </tbody>\n",
       "</table>\n",
       "</div>"
      ],
      "text/plain": [
       "            Daily Return\n",
       "Date                    \n",
       "2023-01-03           NaN\n",
       "2023-01-04      0.001782\n",
       "2023-01-05     -0.004794\n",
       "2023-01-06      0.011178\n",
       "2023-01-09      0.000442"
      ]
     },
     "execution_count": 189,
     "metadata": {},
     "output_type": "execute_result"
    }
   ],
   "source": [
    "# converting to dataframe\n",
    "\n",
    "portfolio_returns_df = portfolio_returns.to_frame(name='Daily Return')\n",
    "portfolio_returns_df.head()"
   ]
  },
  {
   "cell_type": "code",
   "execution_count": 191,
   "id": "316df195-c764-4d9e-8b81-eb302d7fb738",
   "metadata": {},
   "outputs": [],
   "source": [
    "# First, create a cumulative return series \n",
    "\n",
    "portfolio_returns_df['Cumulative Return'] = (1 + portfolio_returns_df['Daily Return']).cumprod()\n",
    "\n",
    "# Secondly, apply initital investment to see how portfolio grows over time \n",
    "initial_investment = 10000\n",
    "\n",
    "portfolio_returns_df['Portfolio Value'] = portfolio_returns_df['Cumulative Return']*initial_investment"
   ]
  },
  {
   "cell_type": "code",
   "execution_count": 193,
   "id": "9933cd5a-00fa-4a29-a6d6-fd3f52ad6a60",
   "metadata": {},
   "outputs": [
    {
     "data": {
      "text/html": [
       "<div>\n",
       "<style scoped>\n",
       "    .dataframe tbody tr th:only-of-type {\n",
       "        vertical-align: middle;\n",
       "    }\n",
       "\n",
       "    .dataframe tbody tr th {\n",
       "        vertical-align: top;\n",
       "    }\n",
       "\n",
       "    .dataframe thead th {\n",
       "        text-align: right;\n",
       "    }\n",
       "</style>\n",
       "<table border=\"1\" class=\"dataframe\">\n",
       "  <thead>\n",
       "    <tr style=\"text-align: right;\">\n",
       "      <th></th>\n",
       "      <th>Date</th>\n",
       "      <th>Daily Return</th>\n",
       "      <th>Cumulative Return</th>\n",
       "      <th>Portfolio Value</th>\n",
       "    </tr>\n",
       "  </thead>\n",
       "  <tbody>\n",
       "    <tr>\n",
       "      <th>0</th>\n",
       "      <td>2023-01-03</td>\n",
       "      <td>NaN</td>\n",
       "      <td>NaN</td>\n",
       "      <td>NaN</td>\n",
       "    </tr>\n",
       "    <tr>\n",
       "      <th>1</th>\n",
       "      <td>2023-01-04</td>\n",
       "      <td>0.001782</td>\n",
       "      <td>1.001782</td>\n",
       "      <td>10017.815123</td>\n",
       "    </tr>\n",
       "    <tr>\n",
       "      <th>2</th>\n",
       "      <td>2023-01-05</td>\n",
       "      <td>-0.004794</td>\n",
       "      <td>0.996978</td>\n",
       "      <td>9969.784740</td>\n",
       "    </tr>\n",
       "    <tr>\n",
       "      <th>3</th>\n",
       "      <td>2023-01-06</td>\n",
       "      <td>0.011178</td>\n",
       "      <td>1.008123</td>\n",
       "      <td>10081.226728</td>\n",
       "    </tr>\n",
       "    <tr>\n",
       "      <th>4</th>\n",
       "      <td>2023-01-09</td>\n",
       "      <td>0.000442</td>\n",
       "      <td>1.008568</td>\n",
       "      <td>10085.680231</td>\n",
       "    </tr>\n",
       "    <tr>\n",
       "      <th>...</th>\n",
       "      <td>...</td>\n",
       "      <td>...</td>\n",
       "      <td>...</td>\n",
       "      <td>...</td>\n",
       "    </tr>\n",
       "    <tr>\n",
       "      <th>622</th>\n",
       "      <td>2025-06-24</td>\n",
       "      <td>-0.000303</td>\n",
       "      <td>1.490504</td>\n",
       "      <td>14905.039305</td>\n",
       "    </tr>\n",
       "    <tr>\n",
       "      <th>623</th>\n",
       "      <td>2025-06-25</td>\n",
       "      <td>-0.000632</td>\n",
       "      <td>1.489562</td>\n",
       "      <td>14895.623307</td>\n",
       "    </tr>\n",
       "    <tr>\n",
       "      <th>624</th>\n",
       "      <td>2025-06-26</td>\n",
       "      <td>0.001477</td>\n",
       "      <td>1.491762</td>\n",
       "      <td>14917.617523</td>\n",
       "    </tr>\n",
       "    <tr>\n",
       "      <th>625</th>\n",
       "      <td>2025-06-27</td>\n",
       "      <td>-0.001981</td>\n",
       "      <td>1.488807</td>\n",
       "      <td>14888.072208</td>\n",
       "    </tr>\n",
       "    <tr>\n",
       "      <th>626</th>\n",
       "      <td>2025-06-30</td>\n",
       "      <td>0.004370</td>\n",
       "      <td>1.495314</td>\n",
       "      <td>14953.136725</td>\n",
       "    </tr>\n",
       "  </tbody>\n",
       "</table>\n",
       "<p>627 rows × 4 columns</p>\n",
       "</div>"
      ],
      "text/plain": [
       "          Date  Daily Return  Cumulative Return  Portfolio Value\n",
       "0   2023-01-03           NaN                NaN              NaN\n",
       "1   2023-01-04      0.001782           1.001782     10017.815123\n",
       "2   2023-01-05     -0.004794           0.996978      9969.784740\n",
       "3   2023-01-06      0.011178           1.008123     10081.226728\n",
       "4   2023-01-09      0.000442           1.008568     10085.680231\n",
       "..         ...           ...                ...              ...\n",
       "622 2025-06-24     -0.000303           1.490504     14905.039305\n",
       "623 2025-06-25     -0.000632           1.489562     14895.623307\n",
       "624 2025-06-26      0.001477           1.491762     14917.617523\n",
       "625 2025-06-27     -0.001981           1.488807     14888.072208\n",
       "626 2025-06-30      0.004370           1.495314     14953.136725\n",
       "\n",
       "[627 rows x 4 columns]"
      ]
     },
     "execution_count": 193,
     "metadata": {},
     "output_type": "execute_result"
    }
   ],
   "source": [
    "portfolio_returns_df = portfolio_returns_df.reset_index()\n",
    "portfolio_returns_df"
   ]
  },
  {
   "cell_type": "code",
   "execution_count": 195,
   "id": "0b7a63b7-fb39-42fe-a94e-f385768800f9",
   "metadata": {},
   "outputs": [
    {
     "data": {
      "image/png": "[encoded data removed]",
      "text/plain": [
       "<Figure size 640x480 with 1 Axes>"
      ]
     },
     "metadata": {},
     "output_type": "display_data"
    }
   ],
   "source": [
    "plt.scatter(portfolio_returns_df[\"Date\"], portfolio_returns_df['Portfolio Value'])\n",
    "plt.xlabel('Portfolio returns Over time')\n",
    "plt.xticks(rotation=90)\n",
    "plt.ylabel('Returns')\n",
    "plt.show()\n"
   ]
  },
  {
   "cell_type": "code",
   "execution_count": null,
   "id": "d82a4827-1235-45bf-a70d-224b645490aa",
   "metadata": {},
   "outputs": [],
   "source": []
  },
  {
   "cell_type": "code",
   "execution_count": null,
   "id": "86bee6b8-73fa-42a5-b990-c9de471f6298",
   "metadata": {},
   "outputs": [],
   "source": []
  }
 ],
 "metadata": {
  "kernelspec": {
   "display_name": "Python [conda env:base] *",
   "language": "python",
   "name": "conda-base-py"
  },
  "language_info": {
   "codemirror_mode": {
    "name": "ipython",
    "version": 3
   },
   "file_extension": ".py",
   "mimetype": "text/x-python",
   "name": "python",
   "nbconvert_exporter": "python",
   "pygments_lexer": "ipython3",
   "version": "3.12.7"
  }
 },
 "nbformat": 4,
 "nbformat_minor": 5
}
